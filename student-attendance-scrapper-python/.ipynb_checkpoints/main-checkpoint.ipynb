{
 "cells": [
  {
   "cell_type": "code",
   "execution_count": 5,
   "id": "1c2a556e",
   "metadata": {},
   "outputs": [],
   "source": [
    "import requests\n",
    "from bs4 import BeautifulSoup"
   ]
  },
  {
   "cell_type": "code",
   "execution_count": 6,
   "id": "cb99dc76",
   "metadata": {},
   "outputs": [],
   "source": [
    "WINDOWMODE=1\n",
    "SEMID=2\n",
    "BATCHID=262\n",
    "FROMDATE='2023-02-15'\n",
    "TODATE='2023-04-28'\n",
    "STUDENTID=14951\n",
    "PAPERID = [\n",
    "4753,\n",
    "4825,\n",
    "4828,\n",
    "4831,\n",
    "4834,\n",
    "5587,\n",
    "5590\n",
    "]\n",
    "\n",
    "\n",
    "URL = \"https://www.brainwareuniversity.ac.in/univ_academics/centre-report-student-attendance-status-details.php?windowmode=1&semid=2&batchid=262&fromdate=2023-02-15&todate=2023-04-28&studentid=14951&paperid=4825\""
   ]
  },
  {
   "cell_type": "code",
   "execution_count": 8,
   "id": "a5acc000",
   "metadata": {},
   "outputs": [],
   "source": [
    "headers = {\n",
    "    'User-Agent': 'Mozilla/5.0 (Windows NT 10.0; Win64; x64) AppleWebKit/537.36 (KHTML, like Gecko) Chrome/58.0.3029.110 Safari/537.36'\n",
    "}"
   ]
  },
  {
   "cell_type": "code",
   "execution_count": 9,
   "id": "f72e0436",
   "metadata": {},
   "outputs": [],
   "source": [
    "response = requests.get(URL, headers=headers)"
   ]
  },
  {
   "cell_type": "code",
   "execution_count": 13,
   "id": "71413d09",
   "metadata": {},
   "outputs": [],
   "source": [
    "soup = BeautifulSoup(response.content, 'html.parser')"
   ]
  },
  {
   "cell_type": "code",
   "execution_count": 72,
   "id": "59286984",
   "metadata": {},
   "outputs": [],
   "source": [
    "data = soup.find('table', {'id': 'report_table'})\n",
    "table = data.find_all('table')[1]"
   ]
  },
  {
   "cell_type": "code",
   "execution_count": null,
   "id": "14a48aa0",
   "metadata": {},
   "outputs": [],
   "source": []
  },
  {
   "cell_type": "code",
   "execution_count": 84,
   "id": "9ba23526",
   "metadata": {},
   "outputs": [],
   "source": [
    "rows = table.find_all('tr')\n",
    "header_row = rows[0]\n",
    "headers = [header.text.strip() for header in header_row.find_all('td')]\n",
    "\n",
    "data_dict = {}\n",
    "    "
   ]
  },
  {
   "cell_type": "code",
   "execution_count": 129,
   "id": "f8905834",
   "metadata": {},
   "outputs": [
    {
     "name": "stdout",
     "output_type": "stream",
     "text": [
      "{'Class': 'Computer Networks', 'Date': '15-Feb-2023', 'Teacher': 'SUBHANKAR DHAR', 'Attendance Status': 'A'}\n",
      "{'Class': 'Computer Networks', 'Date': '16-Feb-2023', 'Teacher': 'SUBHANKAR DHAR', 'Attendance Status': 'A'}\n",
      "{'Class': 'Computer Networks', 'Date': '18-Feb-2023', 'Teacher': 'SUBHANKAR DHAR', 'Attendance Status': 'A'}\n",
      "{'Class': 'Computer Networks', 'Date': '18-Feb-2023', 'Teacher': 'SUBHANKAR DHAR', 'Attendance Status': 'A'}\n",
      "{'Class': 'Computer Networks', 'Date': '22-Feb-2023', 'Teacher': 'SUBHANKAR DHAR', 'Attendance Status': 'A'}\n",
      "{'Class': 'Computer Networks', 'Date': '23-Feb-2023', 'Teacher': 'SUBHANKAR DHAR', 'Attendance Status': 'A'}\n",
      "{'Class': 'Computer Networks', 'Date': '25-Feb-2023', 'Teacher': 'SUBHANKAR DHAR', 'Attendance Status': 'A'}\n",
      "{'Class': 'Computer Networks', 'Date': '25-Feb-2023', 'Teacher': 'SUBHANKAR DHAR', 'Attendance Status': 'A'}\n",
      "{'Class': 'Computer Networks', 'Date': '01-Mar-2023', 'Teacher': 'SUBHANKAR DHAR', 'Attendance Status': 'A'}\n",
      "{'Class': 'Computer Networks', 'Date': '04-Mar-2023', 'Teacher': 'SUBHANKAR DHAR', 'Attendance Status': 'A'}\n",
      "{'Class': 'Computer Networks', 'Date': '04-Mar-2023', 'Teacher': 'SUBHANKAR DHAR', 'Attendance Status': 'A'}\n",
      "{'Class': 'Computer Networks', 'Date': '09-Mar-2023', 'Teacher': 'SUBHANKAR DHAR', 'Attendance Status': 'A'}\n",
      "{'Class': 'Computer Networks', 'Date': '11-Mar-2023', 'Teacher': 'SUBHANKAR DHAR', 'Attendance Status': 'A'}\n",
      "{'Class': 'Computer Networks', 'Date': '11-Mar-2023', 'Teacher': 'SUBHANKAR DHAR', 'Attendance Status': 'A'}\n",
      "{'Class': 'Computer Networks', 'Date': '15-Mar-2023', 'Teacher': 'SUBHANKAR DHAR', 'Attendance Status': 'A'}\n",
      "{'Class': 'Computer Networks', 'Date': '16-Mar-2023', 'Teacher': 'SUBHANKAR DHAR', 'Attendance Status': 'P'}\n",
      "{'Class': 'Computer Networks', 'Date': '18-Mar-2023', 'Teacher': 'SUBHANKAR DHAR', 'Attendance Status': 'A'}\n",
      "{'Class': 'Computer Networks', 'Date': '18-Mar-2023', 'Teacher': 'SUBHANKAR DHAR', 'Attendance Status': 'A'}\n",
      "{'Class': 'Computer Networks', 'Date': '22-Mar-2023', 'Teacher': 'SUBHANKAR DHAR', 'Attendance Status': 'A'}\n",
      "{'Class': 'Computer Networks', 'Date': '23-Mar-2023', 'Teacher': 'SUBHANKAR DHAR', 'Attendance Status': 'P'}\n",
      "{'Class': 'Computer Networks', 'Date': '25-Mar-2023', 'Teacher': 'SUBHANKAR DHAR', 'Attendance Status': 'P'}\n",
      "{'Class': 'Computer Networks', 'Date': '25-Mar-2023', 'Teacher': 'SUBHANKAR DHAR', 'Attendance Status': 'P'}\n",
      "{'Class': 'Computer Networks', 'Date': '29-Mar-2023', 'Teacher': 'SUBHANKAR DHAR', 'Attendance Status': 'A'}\n",
      "{'Class': 'Computer Networks', 'Date': '01-Apr-2023', 'Teacher': 'SUBHANKAR DHAR', 'Attendance Status': 'A'}\n",
      "{'Class': 'Computer Networks', 'Date': '01-Apr-2023', 'Teacher': 'SUBHANKAR DHAR', 'Attendance Status': 'A'}\n",
      "{'Class': 'Computer Networks', 'Date': '05-Apr-2023', 'Teacher': 'SUBHANKAR DHAR', 'Attendance Status': 'A'}\n",
      "{'Class': 'Computer Networks', 'Date': '06-Apr-2023', 'Teacher': 'SUBHANKAR DHAR', 'Attendance Status': 'P'}\n",
      "{'Class': 'Computer Networks', 'Date': '08-Apr-2023', 'Teacher': 'SUBHANKAR DHAR', 'Attendance Status': 'P'}\n",
      "{'Class': 'Computer Networks', 'Date': '08-Apr-2023', 'Teacher': 'SUBHANKAR DHAR', 'Attendance Status': 'P'}\n",
      "{'Class': 'Computer Networks', 'Date': '12-Apr-2023', 'Teacher': 'SUBHANKAR DHAR', 'Attendance Status': 'A'}\n",
      "{'Class': 'Computer Networks', 'Date': '15-Apr-2023', 'Teacher': 'SUBHANKAR DHAR', 'Attendance Status': 'A'}\n",
      "{'Class': 'Computer Networks', 'Date': '15-Apr-2023', 'Teacher': 'SUBHANKAR DHAR', 'Attendance Status': 'A'}\n",
      "{'Class': 'Computer Networks', 'Date': '19-Apr-2023', 'Teacher': 'SUBHANKAR DHAR', 'Attendance Status': 'P'}\n",
      "{'Class': 'Computer Networks', 'Date': '20-Apr-2023', 'Teacher': 'SUBHANKAR DHAR', 'Attendance Status': 'P'}\n",
      "{'Class': 'Computer Networks', 'Date': '26-Apr-2023', 'Teacher': 'SUBHANKAR DHAR', 'Attendance Status': 'P'}\n",
      "{'Class': 'Computer Networks', 'Date': '27-Apr-2023', 'Teacher': 'SUBHANKAR DHAR', 'Attendance Status': 'P'}\n"
     ]
    }
   ],
   "source": [
    "import csv\n",
    "fieldnames = ['Class' , 'Date' , 'Teacher' , 'Attendance Status' ]\n",
    "with open(\"student.csv\", 'w', newline='') as csvfile:\n",
    "    writer = csv.DictWriter(csvfile, fieldnames=fieldnames)\n",
    "    writer.writeheader()\n",
    "\n",
    "    for row in rows[1:-1]:\n",
    "        values = [value.text.strip() for value in row.find_all('td')]\n",
    "        values[0] = values[0].split('->')[1].strip()\n",
    "        data = dict(zip(headers, values))\n",
    "        data_dict.update(data)\n",
    "\n",
    "        print(data_dict)\n",
    "        writer.writerow(data_dict)"
   ]
  },
  {
   "cell_type": "code",
   "execution_count": 108,
   "id": "ebf61f68",
   "metadata": {},
   "outputs": [
    {
     "name": "stdout",
     "output_type": "stream",
     "text": [
      "{'Class': ' Computer Networks ', 'Date': '27-Apr-2023', 'Teacher': 'SUBHANKAR DHAR', 'Attendance Status': 'P', 'class': ' Computer Networks '}\n"
     ]
    }
   ],
   "source": [
    "print(data_dict)"
   ]
  }
 ],
 "metadata": {
  "kernelspec": {
   "display_name": "Python 3 (ipykernel)",
   "language": "python",
   "name": "python3"
  },
  "language_info": {
   "codemirror_mode": {
    "name": "ipython",
    "version": 3
   },
   "file_extension": ".py",
   "mimetype": "text/x-python",
   "name": "python",
   "nbconvert_exporter": "python",
   "pygments_lexer": "ipython3",
   "version": "3.11.1"
  }
 },
 "nbformat": 4,
 "nbformat_minor": 5
}
